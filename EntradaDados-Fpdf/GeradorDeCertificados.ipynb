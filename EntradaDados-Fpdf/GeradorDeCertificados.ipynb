{
 "cells": [
  {
   "cell_type": "code",
   "execution_count": 2,
   "id": "33283fae",
   "metadata": {},
   "outputs": [
    {
     "name": "stdout",
     "output_type": "stream",
     "text": [
      "Requirement already satisfied: fpdf in c:\\users\\user\\anaconda3\\lib\\site-packages (1.7.2)\n"
     ]
    }
   ],
   "source": [
    "!pip install fpdf"
   ]
  },
  {
   "cell_type": "code",
   "execution_count": 4,
   "id": "414a0320",
   "metadata": {},
   "outputs": [
    {
     "name": "stdout",
     "output_type": "stream",
     "text": [
      "Digite o nome do aluno(a): Maria Silva da Cunha\n",
      "Digite o nome curso: Engenharia de Software\n",
      "Digite o nome do tutor: Patricia de Souza\n",
      "Digite a data inicial: 01/01/2021\n",
      "Digite a data de conclusão: 12/12/2022\n",
      "Digite a instituição: Instituto de Tecnologia\n",
      "Digite o nome do diretor: Ana da Silva\n"
     ]
    }
   ],
   "source": [
    "aluno = input(\"Digite o nome do aluno(a): \")\n",
    "curso = input(\"Digite o nome curso: \")\n",
    "professor  = input(\"Digite o nome do tutor: \")\n",
    "data_inicial = input(\"Digite a data inicial: \")\n",
    "data_final = input(\"Digite a data de conclusão: \")\n",
    "instituicao = input(\"Digite a instituição: \")\n",
    "diretor = input(\"Digite o nome do diretor: \")"
   ]
  },
  {
   "cell_type": "code",
   "execution_count": 25,
   "id": "9010ad19",
   "metadata": {},
   "outputs": [
    {
     "name": "stdout",
     "output_type": "stream",
     "text": [
      "Certificado gerado com sucesso!\n"
     ]
    }
   ],
   "source": [
    "from fpdf import FPDF\n",
    "\n",
    "pdf = FPDF('L','mm','A4')\n",
    "pdf.add_page()\n",
    "pdf.set_font(\"Arial\",'', 22)\n",
    "\n",
    "pdf.image(\"certificadao.png\", x=0, y=0)\n",
    "\n",
    "pdf.text(110,90, aluno)\n",
    "pdf.text(134,110, curso)\n",
    "pdf.text(85,121, professor)\n",
    "pdf.text(228,121, data_inicial)\n",
    "pdf.text(37,132, data_final)\n",
    "pdf.text(170,132, instituicao)\n",
    "pdf.text(130,153, diretor)\n",
    "\n",
    "pdf.output(\"projetin.pdf\")\n",
    "print(\"Certificado gerado com sucesso!\")"
   ]
  },
  {
   "cell_type": "code",
   "execution_count": null,
   "id": "1ab930bc",
   "metadata": {},
   "outputs": [],
   "source": []
  },
  {
   "cell_type": "code",
   "execution_count": null,
   "id": "5f339d4f",
   "metadata": {},
   "outputs": [],
   "source": []
  }
 ],
 "metadata": {
  "kernelspec": {
   "display_name": "Python 3 (ipykernel)",
   "language": "python",
   "name": "python3"
  },
  "language_info": {
   "codemirror_mode": {
    "name": "ipython",
    "version": 3
   },
   "file_extension": ".py",
   "mimetype": "text/x-python",
   "name": "python",
   "nbconvert_exporter": "python",
   "pygments_lexer": "ipython3",
   "version": "3.9.13"
  }
 },
 "nbformat": 4,
 "nbformat_minor": 5
}
